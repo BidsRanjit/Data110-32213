{
 "cells": [
  {
   "cell_type": "markdown",
   "metadata": {},
   "source": [
    "This code block imports the `pandas` library as `pd` for data manipulation and `matplotlib.pyplot` as `plt` for data visualization.\n",
    "\n"
   ]
  },
  {
   "cell_type": "code",
   "execution_count": null,
   "metadata": {},
   "outputs": [],
   "source": []
  },
  {
   "cell_type": "code",
   "execution_count": null,
   "metadata": {},
   "outputs": [],
   "source": [
    "import pandas as pd\n",
    "import matplotlib.pyplot as plt"
   ]
  },
  {
   "cell_type": "markdown",
   "metadata": {},
   "source": [
    "Creating a DataFrame using the provided data, which includes movie rankings, titles, and their corresponding weekend gross earnings. The DataFrame has columns for 'Rank', 'Title', and 'Weekend Gross', with each row representing a different movie.\n"
   ]
  },
  {
   "cell_type": "code",
   "execution_count": null,
   "metadata": {},
   "outputs": [],
   "source": [
    "\n",
    "\n",
    "# Create a DataFrame from the given data\n",
    "df = pd.DataFrame({\n",
    "    'Rank': [1, 2, 3, 4, 5],\n",
    "    'Title': [\n",
    "        'Star Wars: The Last Jedi',\n",
    "        'Jumanji: Welcome to the Jungle',\n",
    "        'Pitch Perfect 3',\n",
    "        'The Greatest Showman',\n",
    "        'Ferdinand'\n",
    "    ],\n",
    "    'Weekend Gross': [\n",
    "        71565498,  # $71,565,498\n",
    "        36169328,  # $36,169,328\n",
    "        19928525,  # $19,928,525\n",
    "        8805843,   # $8,805,843\n",
    "        7316746    # $7,316,746\n",
    "    ]\n",
    "})"
   ]
  },
  {
   "cell_type": "markdown",
   "metadata": {},
   "source": [
    "- displays the first few rows of the DataFrame `df`, allowing you to quickly inspect the data and its structure.\n",
    "\n"
   ]
  },
  {
   "cell_type": "code",
   "execution_count": null,
   "metadata": {},
   "outputs": [],
   "source": [
    "df.head()"
   ]
  },
  {
   "cell_type": "markdown",
   "metadata": {},
   "source": [
    "- creates a bar plot using `matplotlib.pyplot` (`plt`) to visualize the weekend gross earnings of the movies in the DataFrame `df`. The x-axis represents the movie titles, while the y-axis represents the corresponding weekend gross earnings.\n"
   ]
  },
  {
   "cell_type": "code",
   "execution_count": null,
   "metadata": {},
   "outputs": [],
   "source": [
    "plt.bar(df['Title'],df['Weekend Gross'])"
   ]
  },
  {
   "cell_type": "code",
   "execution_count": null,
   "metadata": {},
   "outputs": [],
   "source": [
    "plt.barh(df['Title'],df['Weekend Gross'])"
   ]
  },
  {
   "cell_type": "markdown",
   "metadata": {},
   "source": [
    " - Updates the 'Weekend Gross' column in the DataFrame `df` by dividing each value by 1,000,000 to convert the gross earnings from dollars to millions of dollars. Then, it rounds the converted values to the nearest whole number for clarity and simplicity.\n",
    "\n"
   ]
  },
  {
   "cell_type": "code",
   "execution_count": null,
   "metadata": {},
   "outputs": [],
   "source": [
    "df['Weekend Gross']=df['Weekend Gross']/1000000\n",
    "df['Weekend Gross']=round(df['Weekend Gross'])\n"
   ]
  },
  {
   "cell_type": "code",
   "execution_count": null,
   "metadata": {},
   "outputs": [],
   "source": [
    "# for normal number to chantge it from float to int you do as below int(2.0) and it becomes 2 but a\n",
    "# as you can see that does not work for dataframe\n",
    "\n",
    "\n",
    "df['Weekend Gross']=int(df['Weekend Gross'])"
   ]
  },
  {
   "cell_type": "markdown",
   "metadata": {},
   "source": [
    "- This code block converts the 'Weekend Gross' column in the DataFrame `df` to integers, removing any decimal places that may have resulted from previous operations.\n",
    "\n"
   ]
  },
  {
   "cell_type": "code",
   "execution_count": null,
   "metadata": {},
   "outputs": [],
   "source": [
    "\n",
    "df['Weekend Gross']=df['Weekend Gross'].astype(int)"
   ]
  },
  {
   "cell_type": "code",
   "execution_count": null,
   "metadata": {},
   "outputs": [],
   "source": [
    "plt.barh(df['Title'],df['Weekend Gross'])"
   ]
  },
  {
   "cell_type": "markdown",
   "metadata": {},
   "source": [
    "This code block inverts the y-axis of the current plot created with Matplotlib. This action can be useful for scenarios where the data is ordered from top to bottom, but you want to display it from bottom to top on the plot.\n"
   ]
  },
  {
   "cell_type": "code",
   "execution_count": null,
   "metadata": {},
   "outputs": [],
   "source": [
    "plt.barh(df['Title'],df['Weekend Gross'])\n",
    "\n",
    "# gca means Get Curret Axes in Matplotlib \n",
    "plt.gca().invert_yaxis()"
   ]
  },
  {
   "cell_type": "markdown",
   "metadata": {},
   "source": [
    "Only adds grid lines along the y-axis for better readability.\n"
   ]
  },
  {
   "cell_type": "code",
   "execution_count": null,
   "metadata": {},
   "outputs": [],
   "source": [
    "plt.barh(df['Title'],df['Weekend Gross'])\n",
    "\n",
    "# gca means Get Curret Axes in Matplotlib \n",
    "plt.gca().invert_yaxis()\n",
    "plt.grid(axis='y')"
   ]
  },
  {
   "cell_type": "code",
   "execution_count": null,
   "metadata": {},
   "outputs": [],
   "source": [
    "plt.barh(df['Title'],df['Weekend Gross'])\n",
    "\n",
    "# gca means Get Curret Axes in Matplotlib \n",
    "plt.gca().invert_yaxis()\n",
    "# Only show x-axis in the grid\n",
    "plt.grid(axis='x')"
   ]
  },
  {
   "cell_type": "markdown",
   "metadata": {},
   "source": [
    "- Added grid lines along the x-axis for better readability\n",
    "- Forced gridlines to be drawn behind the bars for clarity\n"
   ]
  },
  {
   "cell_type": "code",
   "execution_count": null,
   "metadata": {},
   "outputs": [],
   "source": [
    "# Assuming df['Title'] and df['Weekend Gross'] are already defined and prepared\n",
    "plt.barh(df['Title'], df['Weekend Gross'])\n",
    "\n",
    "# Inverting y-axis to have the highest value on top\n",
    "plt.gca().invert_yaxis()\n",
    "\n",
    "# Adding grid lines along the x-axis \n",
    "\n",
    "plt.grid(axis='x', color='gray', linestyle='--', linewidth=0.5) \n",
    "\n",
    "# Force gridlines to be drawn behind bars\n",
    "ax = plt.gca()  # Get the current axes\n",
    "ax.set_axisbelow(True)  # Ensure gridlines are below other elements\n",
    "\n",
    "plt.show()"
   ]
  },
  {
   "cell_type": "markdown",
   "metadata": {},
   "source": [
    "- Added a title to the plot: 'Weekend Gross of Movies'\n",
    "- Added labels to the x-axis and y-axis for clarity: 'Weekend Gross (Millions $)' and 'Movies', respectively\n"
   ]
  },
  {
   "cell_type": "code",
   "execution_count": null,
   "metadata": {},
   "outputs": [],
   "source": [
    "\n",
    "\n",
    "# Assuming df['Title'] and df['Weekend Gross'] are already defined and prepared\n",
    "plt.barh(df['Title'], df['Weekend Gross'])\n",
    "\n",
    "# Inverting y-axis to have the highest value on top\n",
    "plt.gca().invert_yaxis()\n",
    "\n",
    "# Adding grid lines along the x-axis\n",
    "plt.grid(axis='x', color='gray', linestyle='--', linewidth=0.5)\n",
    "\n",
    "# Force gridlines to be drawn behind bars\n",
    "ax = plt.gca()  # Get the current axes\n",
    "ax.set_axisbelow(True)  # Ensure gridlines are below other elements\n",
    "\n",
    "# Adding a title\n",
    "plt.title('Weekend Gross of Movies')\n",
    "\n",
    "# Adding labels to the axes\n",
    "plt.xlabel('Weekend Gross (Millions $)')\n",
    "plt.ylabel('Movies')\n",
    "\n",
    "# If you have multiple categories and you've used a color code, you can add a legend\n",
    "# plt.legend()\n",
    "\n",
    "plt.show()\n"
   ]
  },
  {
   "cell_type": "markdown",
   "metadata": {},
   "source": [
    "- Removed all borders except the grid to improve visual clarity"
   ]
  },
  {
   "cell_type": "code",
   "execution_count": null,
   "metadata": {},
   "outputs": [],
   "source": [
    "import matplotlib.pyplot as plt\n",
    "\n",
    "# Assuming df['Title'] and df['Weekend Gross'] are already defined and prepared\n",
    "plt.barh(df['Title'], df['Weekend Gross'])\n",
    "\n",
    "# Inverting y-axis to have the highest value on top\n",
    "plt.gca().invert_yaxis()\n",
    "\n",
    "# Adding grid lines along the x-axis\n",
    "plt.grid(axis='x', color='gray', linestyle='--', linewidth=0.5)\n",
    "\n",
    "# Force gridlines to be drawn behind bars\n",
    "ax = plt.gca()  # Get the current axes\n",
    "ax.set_axisbelow(True)  # Ensure gridlines are below other elements\n",
    "\n",
    "# Remove all borders except the grid\n",
    "ax.spines['top'].set_visible(False)    # Remove the top spine\n",
    "ax.spines['right'].set_visible(False)  # Remove the right spine\n",
    "ax.spines['left'].set_visible(False)   # Remove the left spine\n",
    "ax.spines['bottom'].set_visible(False) # Optionally, remove the bottom spine if no x-axis is needed\n",
    "\n",
    "# Adding a title and labels to the axes\n",
    "plt.title('Weekend Gross of Movies')\n",
    "plt.xlabel('Weekend Gross (Millions $)')\n",
    "plt.ylabel('Movies')\n",
    "\n",
    "plt.show()\n"
   ]
  },
  {
   "cell_type": "markdown",
   "metadata": {},
   "source": [
    "\n",
    "- Removed tick marks while keeping the labels on both axes to reduce clutter\n"
   ]
  },
  {
   "cell_type": "code",
   "execution_count": null,
   "metadata": {},
   "outputs": [],
   "source": [
    "\n",
    "\n",
    "# Assuming df['Title'] and df['Weekend Gross'] are already defined and prepared\n",
    "plt.barh(df['Title'], df['Weekend Gross'])\n",
    "\n",
    "# Inverting y-axis to have the highest value on top\n",
    "plt.gca().invert_yaxis()\n",
    "\n",
    "# Adding grid lines along the x-axis\n",
    "plt.grid(axis='x', color='gray', linestyle='--', linewidth=0.5)\n",
    "\n",
    "# Force gridlines to be drawn behind bars\n",
    "ax = plt.gca()  # Get the current axes\n",
    "ax.set_axisbelow(True)  # Ensure gridlines are below other elements\n",
    "\n",
    "# Remove all borders except the grid\n",
    "ax.spines['top'].set_visible(False)    # Remove the top spine\n",
    "ax.spines['right'].set_visible(False)  # Remove the right spine\n",
    "ax.spines['left'].set_visible(False)   # Remove the left spine\n",
    "ax.spines['bottom'].set_visible(False) # Optionally, remove the bottom spine\n",
    "\n",
    "# Remove tick marks but keep the labels\n",
    "ax.tick_params(axis='both', which='both', length=0)  # Set 'length' to 0 to remove ticks\n",
    "\n",
    "# Adding a title and labels to the axes\n",
    "plt.title('Weekend Gross of Movies')\n",
    "plt.xlabel('Weekend Gross (Millions $)')\n",
    "plt.ylabel('Movies')\n",
    "\n",
    "plt.show()\n"
   ]
  },
  {
   "cell_type": "markdown",
   "metadata": {},
   "source": [
    "- Applied the 'ggplot' style to the plot for a different visual appearance\n"
   ]
  },
  {
   "cell_type": "code",
   "execution_count": null,
   "metadata": {},
   "outputs": [],
   "source": [
    "# Use ggplot style\n",
    "plt.style.use('ggplot')\n",
    "\n",
    "# Assuming df['Title'] and df['Weekend Gross'] are already defined and prepared\n",
    "plt.barh(df['Title'], df['Weekend Gross'])\n",
    "\n",
    "# Inverting y-axis to have the highest value on top\n",
    "plt.gca().invert_yaxis()\n",
    "\n",
    "# Adding grid lines along the x-axis\n",
    "plt.grid(axis='y')\n",
    "\n",
    "# Force gridlines to be drawn behind bars\n",
    "ax = plt.gca()  # Get the current axes\n",
    "ax.set_axisbelow(True)  # Ensure gridlines are below other elements\n",
    "\n",
    "# Remove all borders except the grid\n",
    "ax.spines['top'].set_visible(False)    # Remove the top spine\n",
    "ax.spines['right'].set_visible(False)  # Remove the right spine\n",
    "ax.spines['left'].set_visible(False)   # Remove the left spine\n",
    "ax.spines['bottom'].set_visible(False) # Optionally, remove the bottom spine\n",
    "\n",
    "\n",
    "# Remove tick marks but keep the labels\n",
    "ax.tick_params(axis='both', which='both', length=0)  # Set 'length' to 0 to remove ticks\n",
    "\n",
    "\n",
    "# Adding a title and labels to the axes\n",
    "plt.title('Weekend Gross of Movies')\n",
    "plt.xlabel('Weekend Gross (Millions $)')\n",
    "plt.ylabel('Movies')\n",
    "\n",
    "plt.show()"
   ]
  }
 ],
 "metadata": {
  "kernelspec": {
   "display_name": "Python 3",
   "language": "python",
   "name": "python3"
  },
  "language_info": {
   "codemirror_mode": {
    "name": "ipython",
    "version": 3
   },
   "file_extension": ".py",
   "mimetype": "text/x-python",
   "name": "python",
   "nbconvert_exporter": "python",
   "pygments_lexer": "ipython3",
   "version": "3.11.5"
  }
 },
 "nbformat": 4,
 "nbformat_minor": 2
}
