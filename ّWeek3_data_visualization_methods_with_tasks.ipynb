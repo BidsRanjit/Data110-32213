{
  "cells": [
    {
      "cell_type": "markdown",
      "metadata": {
        "id": "view-in-github",
        "colab_type": "text"
      },
      "source": [
        "<a href=\"https://colab.research.google.com/github/Reben80/Data110-32213/blob/main/%D9%91Week3_data_visualization_methods_with_tasks.ipynb\" target=\"_parent\"><img src=\"https://colab.research.google.com/assets/colab-badge.svg\" alt=\"Open In Colab\"/></a>"
      ]
    },
    {
      "cell_type": "markdown",
      "id": "585e141d",
      "metadata": {
        "id": "585e141d"
      },
      "source": [
        "# Obtaining Data for Visualization"
      ]
    },
    {
      "cell_type": "markdown",
      "id": "8631a29e",
      "metadata": {
        "id": "8631a29e"
      },
      "source": [
        "\n",
        "In this notebook, we will explore three methods of obtaining data in Python, which you can later use for data visualization purposes:\n",
        "1. Typing Data Directly\n",
        "2. Using NumPy\n",
        "3. Reading from an External File with Pandas\n",
        "4. Fetching Data from an API\n",
        "    "
      ]
    },
    {
      "cell_type": "markdown",
      "id": "0488c1ce",
      "metadata": {
        "id": "0488c1ce"
      },
      "source": [
        "## 1. Typing Data Directly"
      ]
    },
    {
      "cell_type": "code",
      "execution_count": null,
      "id": "af0a094e",
      "metadata": {
        "id": "af0a094e"
      },
      "outputs": [],
      "source": [
        "\n",
        "# Example of typing data directly\n",
        "x = [1, 2, 3, 4, 5]\n",
        "y = [10, 20, 30, 40, 50]\n",
        ""
      ]
    },
    {
      "cell_type": "markdown",
      "id": "42aa751b",
      "metadata": {
        "id": "42aa751b"
      },
      "source": [
        "## 2. Using NumPy"
      ]
    },
    {
      "cell_type": "code",
      "execution_count": null,
      "id": "00be1800",
      "metadata": {
        "id": "00be1800"
      },
      "outputs": [],
      "source": [
        "\n",
        "import numpy as np\n",
        "\n",
        "# Creating a simple array\n",
        "array = np.array([1, 2, 3, 4, 5])\n",
        "\n",
        "# Generating a range of numbers\n",
        "range_array = np.arange(0, 10, 2) # Start, Stop, Step\n",
        "\n",
        "# Generating random data\n",
        "random_array = np.random.rand(5) # 5 random numbers between 0 and 1\n",
        "\n",
        "# Generating random integers\n",
        "random_integers = np.random.randint(0, 100, 5) # Start, Stop, Number of values\n",
        "\n",
        "# Generating numbers from a normal distribution\n",
        "normal_distribution = np.random.normal(0, 1, 1000) # Mean, Standard deviation, Number of values\n",
        "\n",
        "# Generating numbers from a uniform distribution\n",
        "uniform_distribution = np.random.uniform(0, 10, 1000) # Lower bound, Upper bound, Number of values\n",
        ""
      ]
    },
    {
      "cell_type": "code",
      "execution_count": null,
      "id": "993ea3e2",
      "metadata": {
        "id": "993ea3e2"
      },
      "outputs": [],
      "source": [
        "\n",
        "import requests\n",
        "\n",
        "# The API endpoint you want to call\n",
        "url = 'https://api.example.com/data'\n",
        "\n",
        "# Making a GET request to the API\n",
        "response = requests.get(url)\n",
        "\n",
        "# Assuming the response is in JSON format\n",
        "data = response.json()\n",
        "\n",
        "print(data)\n",
        ""
      ]
    },
    {
      "cell_type": "markdown",
      "id": "c63552c8",
      "metadata": {
        "id": "c63552c8"
      },
      "source": [
        "## 3. Reading from an External File with Pandas"
      ]
    },
    {
      "cell_type": "code",
      "execution_count": null,
      "id": "8bcd68c1",
      "metadata": {
        "id": "8bcd68c1"
      },
      "outputs": [],
      "source": [
        "\n",
        "import pandas as pd\n",
        "\n",
        "# File path\n",
        "file_path = 'data.csv'\n",
        "\n",
        "# Reading the CSV file\n",
        "data = pd.read_csv(file_path)\n",
        "\n",
        "# Displaying the first few rows of the dataframe\n",
        "print(data.head())\n",
        ""
      ]
    },
    {
      "cell_type": "markdown",
      "id": "3f84019f",
      "metadata": {
        "id": "3f84019f"
      },
      "source": [
        "## 4. Fetching Data from an API"
      ]
    },
    {
      "cell_type": "markdown",
      "id": "4f4d1e66",
      "metadata": {
        "id": "4f4d1e66"
      },
      "source": [
        "\n",
        "This notebook covered three basic methods of obtaining data in Python. The choice of method largely depends on the nature and size of your dataset, as well as the context of your data visualization task. Happy data gathering!\n",
        "    "
      ]
    },
    {
      "cell_type": "markdown",
      "id": "0cc07acc",
      "metadata": {
        "id": "0cc07acc"
      },
      "source": [
        "## Visualization Tasks"
      ]
    },
    {
      "cell_type": "markdown",
      "id": "08844e36",
      "metadata": {
        "id": "08844e36"
      },
      "source": [
        "\n",
        "### Task 1: Visualization with Directly Typed Data\n",
        "1. **Line Plot**: Use the data `x = [1, 2, 3, 4, 5]` and `y = [10, 20, 30, 40, 50]` to create a line plot. Customize the plot with a title, axis labels, and grid.\n",
        "2. **Bar Graph**: Convert the same data into a bar graph. Customize it with a title, axis labels, and different colors for each bar.\n",
        "    "
      ]
    },
    {
      "cell_type": "markdown",
      "id": "46ddd735",
      "metadata": {
        "id": "46ddd735"
      },
      "source": [
        "\n",
        "### Task 2: Visualization with NumPy-Generated Data\n",
        "1. **Line Plot with Multiple Series**: Create a line plot using `range_array` and `random_array` from the NumPy section. Add a title, legend, axis labels, and grid.\n",
        "2. **Bar Graph Comparison**: Create a bar graph to compare `random_array` with another set of random values. Add a title, legend, axis labels, and different colors for the bars.\n",
        "    "
      ]
    },
    {
      "cell_type": "markdown",
      "id": "936ec68a",
      "metadata": {
        "id": "936ec68a"
      },
      "source": [
        "\n",
        "### Task 3: Visualization with Data from a CSV File (Using Pandas)\n",
        "1. **Line Plot from CSV Data**: Create a line plot using two selected columns from your CSV data. Add a title, axis labels, and grid.\n",
        "2. **Bar Graph from CSV Data**: Create a bar graph to compare values in two selected columns from your CSV data. Add a title, axis labels, and different colors for the bars.\n",
        "    "
      ]
    }
  ],
  "metadata": {
    "language_info": {
      "name": "python"
    },
    "colab": {
      "provenance": [],
      "include_colab_link": true
    }
  },
  "nbformat": 4,
  "nbformat_minor": 5
}